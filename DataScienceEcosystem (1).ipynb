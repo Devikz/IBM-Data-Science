{
 "cells": [
  {
   "cell_type": "markdown",
   "id": "ac7e31a9-2084-486c-a129-6801bb3b86ae",
   "metadata": {},
   "source": [
    "# Data Science Tools and Ecosystem"
   ]
  },
  {
   "cell_type": "markdown",
   "id": "85fe951d-b323-4ded-b0de-b5cf829cf37e",
   "metadata": {},
   "source": [
    "In this notebook, Data Science Tools and Ecosystem are summarized."
   ]
  },
  {
   "cell_type": "code",
   "execution_count": null,
   "id": "c6b6f752-c70e-4252-ab2c-16a068a6a636",
   "metadata": {},
   "outputs": [],
   "source": [
    "__Objectives:__\n",
    "*List popular languages for Data Science\n",
    "*List popular libraries for Data Science\n",
    "*List of well known Data Science Tools\n",
    "*how to give comments in the cell and perform basic arithmetic expressions"
   ]
  },
  {
   "cell_type": "markdown",
   "id": "0e98208e-5fa7-4f78-beae-7abdd25124ff",
   "metadata": {},
   "source": [
    "Some of the popular languages that Data Scientists use are:\n",
    "    1.Python\n",
    "    2.R\n",
    "    3.SQL\n",
    "    4.C++\n",
    "    5.SQL"
   ]
  },
  {
   "cell_type": "markdown",
   "id": "81b15de8-4266-4f23-b2ec-9265112beeba",
   "metadata": {},
   "source": [
    "Some of the commonly used libraries used by Data Scientists include:\n",
    "    1.Pandas\n",
    "    2.NumPy\n",
    "    3.TensorFlow\n",
    "    4.Matplotlib\n",
    "    5.Seaborn\n",
    "    6.Scikit-Learn\n",
    "    7.Keras\n",
    "    8.PyTorch\n",
    "    9.SciPy"
   ]
  },
  {
   "cell_type": "markdown",
   "id": "bdc9db4d-b5d9-400a-9ad9-dbfec8e2db8c",
   "metadata": {
    "tags": []
   },
   "source": [
    "|Data Science Tools|\n",
    "|---|\n",
    "|SAS|\n",
    "|Apache Spark|\n",
    "|TensorFlow|\n"
   ]
  },
  {
   "cell_type": "markdown",
   "id": "acc0b030-43c7-4c49-9dcb-6a015391db18",
   "metadata": {},
   "source": [
    "### Below are a few examples of evaluating arithmetic expressions in Python"
   ]
  },
  {
   "cell_type": "code",
   "execution_count": 2,
   "id": "b72b513f-8c65-4777-8411-2b0a4e10ce59",
   "metadata": {
    "tags": []
   },
   "outputs": [
    {
     "data": {
      "text/plain": [
       "17"
      ]
     },
     "execution_count": 2,
     "metadata": {},
     "output_type": "execute_result"
    }
   ],
   "source": [
    "#This a simple arithmetic expression to mutiply then add integers\n",
    "(3*4)+5"
   ]
  },
  {
   "cell_type": "code",
   "execution_count": 3,
   "id": "69cd373e-da95-46c4-9c2e-2291336eb2f8",
   "metadata": {
    "tags": []
   },
   "outputs": [
    {
     "data": {
      "text/plain": [
       "3.3333333333333335"
      ]
     },
     "execution_count": 3,
     "metadata": {},
     "output_type": "execute_result"
    }
   ],
   "source": [
    "#This will convert 200 minutes to hours by diving by 60\n",
    "200/60"
   ]
  },
  {
   "cell_type": "markdown",
   "id": "b4c26540-e9f0-4fb2-80b9-61ef9fa0bc96",
   "metadata": {
    "tags": []
   },
   "source": [
    "## Author\n",
    "Devika Rani Sanaboyina"
   ]
  },
  {
   "cell_type": "code",
   "execution_count": null,
   "id": "bb8598fa-3169-4cb1-bc14-abf40251e47e",
   "metadata": {},
   "outputs": [],
   "source": []
  }
 ],
 "metadata": {
  "kernelspec": {
   "display_name": "Python",
   "language": "python",
   "name": "conda-env-python-py"
  },
  "language_info": {
   "codemirror_mode": {
    "name": "ipython",
    "version": 3
   },
   "file_extension": ".py",
   "mimetype": "text/x-python",
   "name": "python",
   "nbconvert_exporter": "python",
   "pygments_lexer": "ipython3",
   "version": "3.7.12"
  }
 },
 "nbformat": 4,
 "nbformat_minor": 5
}
